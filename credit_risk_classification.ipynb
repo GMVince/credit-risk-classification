{
 "cells": [
  {
   "cell_type": "code",
   "execution_count": 16,
   "metadata": {},
   "outputs": [],
   "source": [
    "# Import the modules\n",
    "import numpy as np\n",
    "import pandas as pd\n",
    "from pathlib import Path\n",
    "from sklearn.metrics import balanced_accuracy_score, confusion_matrix, classification_report\n",
    "from sklearn.preprocessing import StandardScaler\n",
    "from imblearn.metrics import classification_report_imbalanced\n",
    "\n"
   ]
  },
  {
   "cell_type": "markdown",
   "metadata": {},
   "source": [
    "---"
   ]
  },
  {
   "cell_type": "markdown",
   "metadata": {},
   "source": [
    "## Split the Data into Training and Testing Sets"
   ]
  },
  {
   "cell_type": "markdown",
   "metadata": {},
   "source": [
    "### Step 1: Read the `lending_data.csv` data from the `Resources` folder into a Pandas DataFrame."
   ]
  },
  {
   "cell_type": "code",
   "execution_count": 17,
   "metadata": {},
   "outputs": [
    {
     "data": {
      "text/html": [
       "<div>\n",
       "<style scoped>\n",
       "    .dataframe tbody tr th:only-of-type {\n",
       "        vertical-align: middle;\n",
       "    }\n",
       "\n",
       "    .dataframe tbody tr th {\n",
       "        vertical-align: top;\n",
       "    }\n",
       "\n",
       "    .dataframe thead th {\n",
       "        text-align: right;\n",
       "    }\n",
       "</style>\n",
       "<table border=\"1\" class=\"dataframe\">\n",
       "  <thead>\n",
       "    <tr style=\"text-align: right;\">\n",
       "      <th></th>\n",
       "      <th>loan_size</th>\n",
       "      <th>interest_rate</th>\n",
       "      <th>borrower_income</th>\n",
       "      <th>debt_to_income</th>\n",
       "      <th>num_of_accounts</th>\n",
       "      <th>derogatory_marks</th>\n",
       "      <th>total_debt</th>\n",
       "      <th>loan_status</th>\n",
       "    </tr>\n",
       "  </thead>\n",
       "  <tbody>\n",
       "    <tr>\n",
       "      <th>0</th>\n",
       "      <td>10700.0</td>\n",
       "      <td>7.672</td>\n",
       "      <td>52800</td>\n",
       "      <td>0.431818</td>\n",
       "      <td>5</td>\n",
       "      <td>1</td>\n",
       "      <td>22800</td>\n",
       "      <td>0</td>\n",
       "    </tr>\n",
       "    <tr>\n",
       "      <th>1</th>\n",
       "      <td>8400.0</td>\n",
       "      <td>6.692</td>\n",
       "      <td>43600</td>\n",
       "      <td>0.311927</td>\n",
       "      <td>3</td>\n",
       "      <td>0</td>\n",
       "      <td>13600</td>\n",
       "      <td>0</td>\n",
       "    </tr>\n",
       "    <tr>\n",
       "      <th>2</th>\n",
       "      <td>9000.0</td>\n",
       "      <td>6.963</td>\n",
       "      <td>46100</td>\n",
       "      <td>0.349241</td>\n",
       "      <td>3</td>\n",
       "      <td>0</td>\n",
       "      <td>16100</td>\n",
       "      <td>0</td>\n",
       "    </tr>\n",
       "    <tr>\n",
       "      <th>3</th>\n",
       "      <td>10700.0</td>\n",
       "      <td>7.664</td>\n",
       "      <td>52700</td>\n",
       "      <td>0.430740</td>\n",
       "      <td>5</td>\n",
       "      <td>1</td>\n",
       "      <td>22700</td>\n",
       "      <td>0</td>\n",
       "    </tr>\n",
       "    <tr>\n",
       "      <th>4</th>\n",
       "      <td>10800.0</td>\n",
       "      <td>7.698</td>\n",
       "      <td>53000</td>\n",
       "      <td>0.433962</td>\n",
       "      <td>5</td>\n",
       "      <td>1</td>\n",
       "      <td>23000</td>\n",
       "      <td>0</td>\n",
       "    </tr>\n",
       "  </tbody>\n",
       "</table>\n",
       "</div>"
      ],
      "text/plain": [
       "   loan_size  interest_rate  borrower_income  debt_to_income  num_of_accounts  \\\n",
       "0    10700.0          7.672            52800        0.431818                5   \n",
       "1     8400.0          6.692            43600        0.311927                3   \n",
       "2     9000.0          6.963            46100        0.349241                3   \n",
       "3    10700.0          7.664            52700        0.430740                5   \n",
       "4    10800.0          7.698            53000        0.433962                5   \n",
       "\n",
       "   derogatory_marks  total_debt  loan_status  \n",
       "0                 1       22800            0  \n",
       "1                 0       13600            0  \n",
       "2                 0       16100            0  \n",
       "3                 1       22700            0  \n",
       "4                 1       23000            0  "
      ]
     },
     "execution_count": 17,
     "metadata": {},
     "output_type": "execute_result"
    }
   ],
   "source": [
    "# Read the CSV file from the Resources folder into a Pandas DataFrame\n",
    "lending_data_df = pd.read_csv(\n",
    "    Path('./Resources/lending_data.csv')\n",
    ")\n",
    "lending_data_df.head()"
   ]
  },
  {
   "cell_type": "markdown",
   "metadata": {},
   "source": [
    "### Step 2: Create the labels set (`y`)  from the “loan_status” column, and then create the features (`X`) DataFrame from the remaining columns."
   ]
  },
  {
   "cell_type": "code",
   "execution_count": 18,
   "metadata": {},
   "outputs": [],
   "source": [
    "# Separate the data into labels and features\n",
    "# Separate the y variable, the labels\n",
    "y = lending_data_df['loan_status'] \n",
    "# Separate the X variable, the features\n",
    "X = lending_data_df.drop('loan_status', axis=1) "
   ]
  },
  {
   "cell_type": "code",
   "execution_count": 19,
   "metadata": {},
   "outputs": [
    {
     "data": {
      "text/plain": [
       "0    0\n",
       "1    0\n",
       "2    0\n",
       "3    0\n",
       "4    0\n",
       "Name: loan_status, dtype: int64"
      ]
     },
     "execution_count": 19,
     "metadata": {},
     "output_type": "execute_result"
    }
   ],
   "source": [
    "# Review the y variable Series\n",
    "y[:5]"
   ]
  },
  {
   "cell_type": "code",
   "execution_count": 20,
   "metadata": {},
   "outputs": [
    {
     "data": {
      "text/html": [
       "<div>\n",
       "<style scoped>\n",
       "    .dataframe tbody tr th:only-of-type {\n",
       "        vertical-align: middle;\n",
       "    }\n",
       "\n",
       "    .dataframe tbody tr th {\n",
       "        vertical-align: top;\n",
       "    }\n",
       "\n",
       "    .dataframe thead th {\n",
       "        text-align: right;\n",
       "    }\n",
       "</style>\n",
       "<table border=\"1\" class=\"dataframe\">\n",
       "  <thead>\n",
       "    <tr style=\"text-align: right;\">\n",
       "      <th></th>\n",
       "      <th>loan_size</th>\n",
       "      <th>interest_rate</th>\n",
       "      <th>borrower_income</th>\n",
       "      <th>debt_to_income</th>\n",
       "      <th>num_of_accounts</th>\n",
       "      <th>derogatory_marks</th>\n",
       "      <th>total_debt</th>\n",
       "    </tr>\n",
       "  </thead>\n",
       "  <tbody>\n",
       "    <tr>\n",
       "      <th>0</th>\n",
       "      <td>10700.0</td>\n",
       "      <td>7.672</td>\n",
       "      <td>52800</td>\n",
       "      <td>0.431818</td>\n",
       "      <td>5</td>\n",
       "      <td>1</td>\n",
       "      <td>22800</td>\n",
       "    </tr>\n",
       "    <tr>\n",
       "      <th>1</th>\n",
       "      <td>8400.0</td>\n",
       "      <td>6.692</td>\n",
       "      <td>43600</td>\n",
       "      <td>0.311927</td>\n",
       "      <td>3</td>\n",
       "      <td>0</td>\n",
       "      <td>13600</td>\n",
       "    </tr>\n",
       "    <tr>\n",
       "      <th>2</th>\n",
       "      <td>9000.0</td>\n",
       "      <td>6.963</td>\n",
       "      <td>46100</td>\n",
       "      <td>0.349241</td>\n",
       "      <td>3</td>\n",
       "      <td>0</td>\n",
       "      <td>16100</td>\n",
       "    </tr>\n",
       "    <tr>\n",
       "      <th>3</th>\n",
       "      <td>10700.0</td>\n",
       "      <td>7.664</td>\n",
       "      <td>52700</td>\n",
       "      <td>0.430740</td>\n",
       "      <td>5</td>\n",
       "      <td>1</td>\n",
       "      <td>22700</td>\n",
       "    </tr>\n",
       "    <tr>\n",
       "      <th>4</th>\n",
       "      <td>10800.0</td>\n",
       "      <td>7.698</td>\n",
       "      <td>53000</td>\n",
       "      <td>0.433962</td>\n",
       "      <td>5</td>\n",
       "      <td>1</td>\n",
       "      <td>23000</td>\n",
       "    </tr>\n",
       "  </tbody>\n",
       "</table>\n",
       "</div>"
      ],
      "text/plain": [
       "   loan_size  interest_rate  borrower_income  debt_to_income  num_of_accounts  \\\n",
       "0    10700.0          7.672            52800        0.431818                5   \n",
       "1     8400.0          6.692            43600        0.311927                3   \n",
       "2     9000.0          6.963            46100        0.349241                3   \n",
       "3    10700.0          7.664            52700        0.430740                5   \n",
       "4    10800.0          7.698            53000        0.433962                5   \n",
       "\n",
       "   derogatory_marks  total_debt  \n",
       "0                 1       22800  \n",
       "1                 0       13600  \n",
       "2                 0       16100  \n",
       "3                 1       22700  \n",
       "4                 1       23000  "
      ]
     },
     "execution_count": 20,
     "metadata": {},
     "output_type": "execute_result"
    }
   ],
   "source": [
    "# Review the X variable DataFrame\n",
    "X[:5]"
   ]
  },
  {
   "cell_type": "markdown",
   "metadata": {},
   "source": [
    "### Step 3: Check the balance of the labels variable (`y`) by using the `value_counts` function."
   ]
  },
  {
   "cell_type": "code",
   "execution_count": 21,
   "metadata": {},
   "outputs": [
    {
     "name": "stdout",
     "output_type": "stream",
     "text": [
      "0    75036\n",
      "1     2500\n",
      "Name: loan_status, dtype: int64\n"
     ]
    }
   ],
   "source": [
    "# Check the balance of our target values\n",
    "label_counts = y.value_counts()\n",
    "print(label_counts)\n"
   ]
  },
  {
   "cell_type": "markdown",
   "metadata": {},
   "source": [
    "### Step 4: Split the data into training and testing datasets by using `train_test_split`."
   ]
  },
  {
   "cell_type": "code",
   "execution_count": 45,
   "metadata": {},
   "outputs": [],
   "source": [
    "# Import the train_test_learn module\n",
    "from sklearn.model_selection import train_test_split\n",
    "\n",
    "# Split the data using train_test_split\n",
    "# Assign a random_state of 1 to the function\n",
    "X_train, X_test, y_train, y_test = train_test_split(X, y, random_state=1)\n",
    "\n",
    "# Instantiate a StandardScaler instance\n",
    "scaler = StandardScaler()\n",
    "\n",
    "# Fit the training data to the standard scaler\n",
    "X_scaler = scaler.fit(X_train)\n",
    "\n",
    "# Transform the training data using the scaler\n",
    "X_train_scaled = X_scaler.transform(X_train)\n",
    "\n",
    "# Transform the testing data using the scaler\n",
    "X_test_scaled = X_scaler.transform(X_test)\n",
    "\n"
   ]
  },
  {
   "cell_type": "markdown",
   "metadata": {},
   "source": [
    "---"
   ]
  },
  {
   "cell_type": "markdown",
   "metadata": {},
   "source": [
    "## Create a Logistic Regression Model with the Original Data"
   ]
  },
  {
   "cell_type": "markdown",
   "metadata": {},
   "source": [
    "###  Step 1: Fit a logistic regression model by using the training data (`X_train` and `y_train`)."
   ]
  },
  {
   "cell_type": "code",
   "execution_count": 23,
   "metadata": {},
   "outputs": [
    {
     "data": {
      "text/html": [
       "<style>#sk-container-id-2 {color: black;background-color: white;}#sk-container-id-2 pre{padding: 0;}#sk-container-id-2 div.sk-toggleable {background-color: white;}#sk-container-id-2 label.sk-toggleable__label {cursor: pointer;display: block;width: 100%;margin-bottom: 0;padding: 0.3em;box-sizing: border-box;text-align: center;}#sk-container-id-2 label.sk-toggleable__label-arrow:before {content: \"▸\";float: left;margin-right: 0.25em;color: #696969;}#sk-container-id-2 label.sk-toggleable__label-arrow:hover:before {color: black;}#sk-container-id-2 div.sk-estimator:hover label.sk-toggleable__label-arrow:before {color: black;}#sk-container-id-2 div.sk-toggleable__content {max-height: 0;max-width: 0;overflow: hidden;text-align: left;background-color: #f0f8ff;}#sk-container-id-2 div.sk-toggleable__content pre {margin: 0.2em;color: black;border-radius: 0.25em;background-color: #f0f8ff;}#sk-container-id-2 input.sk-toggleable__control:checked~div.sk-toggleable__content {max-height: 200px;max-width: 100%;overflow: auto;}#sk-container-id-2 input.sk-toggleable__control:checked~label.sk-toggleable__label-arrow:before {content: \"▾\";}#sk-container-id-2 div.sk-estimator input.sk-toggleable__control:checked~label.sk-toggleable__label {background-color: #d4ebff;}#sk-container-id-2 div.sk-label input.sk-toggleable__control:checked~label.sk-toggleable__label {background-color: #d4ebff;}#sk-container-id-2 input.sk-hidden--visually {border: 0;clip: rect(1px 1px 1px 1px);clip: rect(1px, 1px, 1px, 1px);height: 1px;margin: -1px;overflow: hidden;padding: 0;position: absolute;width: 1px;}#sk-container-id-2 div.sk-estimator {font-family: monospace;background-color: #f0f8ff;border: 1px dotted black;border-radius: 0.25em;box-sizing: border-box;margin-bottom: 0.5em;}#sk-container-id-2 div.sk-estimator:hover {background-color: #d4ebff;}#sk-container-id-2 div.sk-parallel-item::after {content: \"\";width: 100%;border-bottom: 1px solid gray;flex-grow: 1;}#sk-container-id-2 div.sk-label:hover label.sk-toggleable__label {background-color: #d4ebff;}#sk-container-id-2 div.sk-serial::before {content: \"\";position: absolute;border-left: 1px solid gray;box-sizing: border-box;top: 0;bottom: 0;left: 50%;z-index: 0;}#sk-container-id-2 div.sk-serial {display: flex;flex-direction: column;align-items: center;background-color: white;padding-right: 0.2em;padding-left: 0.2em;position: relative;}#sk-container-id-2 div.sk-item {position: relative;z-index: 1;}#sk-container-id-2 div.sk-parallel {display: flex;align-items: stretch;justify-content: center;background-color: white;position: relative;}#sk-container-id-2 div.sk-item::before, #sk-container-id-2 div.sk-parallel-item::before {content: \"\";position: absolute;border-left: 1px solid gray;box-sizing: border-box;top: 0;bottom: 0;left: 50%;z-index: -1;}#sk-container-id-2 div.sk-parallel-item {display: flex;flex-direction: column;z-index: 1;position: relative;background-color: white;}#sk-container-id-2 div.sk-parallel-item:first-child::after {align-self: flex-end;width: 50%;}#sk-container-id-2 div.sk-parallel-item:last-child::after {align-self: flex-start;width: 50%;}#sk-container-id-2 div.sk-parallel-item:only-child::after {width: 0;}#sk-container-id-2 div.sk-dashed-wrapped {border: 1px dashed gray;margin: 0 0.4em 0.5em 0.4em;box-sizing: border-box;padding-bottom: 0.4em;background-color: white;}#sk-container-id-2 div.sk-label label {font-family: monospace;font-weight: bold;display: inline-block;line-height: 1.2em;}#sk-container-id-2 div.sk-label-container {text-align: center;}#sk-container-id-2 div.sk-container {/* jupyter's `normalize.less` sets `[hidden] { display: none; }` but bootstrap.min.css set `[hidden] { display: none !important; }` so we also need the `!important` here to be able to override the default hidden behavior on the sphinx rendered scikit-learn.org. See: https://github.com/scikit-learn/scikit-learn/issues/21755 */display: inline-block !important;position: relative;}#sk-container-id-2 div.sk-text-repr-fallback {display: none;}</style><div id=\"sk-container-id-2\" class=\"sk-top-container\"><div class=\"sk-text-repr-fallback\"><pre>LogisticRegression(max_iter=200, random_state=1)</pre><b>In a Jupyter environment, please rerun this cell to show the HTML representation or trust the notebook. <br />On GitHub, the HTML representation is unable to render, please try loading this page with nbviewer.org.</b></div><div class=\"sk-container\" hidden><div class=\"sk-item\"><div class=\"sk-estimator sk-toggleable\"><input class=\"sk-toggleable__control sk-hidden--visually\" id=\"sk-estimator-id-2\" type=\"checkbox\" checked><label for=\"sk-estimator-id-2\" class=\"sk-toggleable__label sk-toggleable__label-arrow\">LogisticRegression</label><div class=\"sk-toggleable__content\"><pre>LogisticRegression(max_iter=200, random_state=1)</pre></div></div></div></div></div>"
      ],
      "text/plain": [
       "LogisticRegression(max_iter=200, random_state=1)"
      ]
     },
     "execution_count": 23,
     "metadata": {},
     "output_type": "execute_result"
    }
   ],
   "source": [
    "# Import the LogisticRegression module from SKLearn\n",
    "from sklearn.linear_model import LogisticRegression\n",
    "\n",
    "# Instantiate the Logistic Regression model\n",
    "# Assign a random_state parameter of 1 to the model\n",
    "classifier = LogisticRegression(solver='lbfgs',\n",
    "                                 max_iter=200,\n",
    "                                 random_state=1)\n",
    "classifier\n",
    "\n",
    "# Fit the model using training data\n",
    "classifier.fit(X_train, y_train)"
   ]
  },
  {
   "cell_type": "markdown",
   "metadata": {},
   "source": [
    "### Step 2: Save the predictions on the testing data labels by using the testing feature data (`X_test`) and the fitted model."
   ]
  },
  {
   "cell_type": "code",
   "execution_count": 35,
   "metadata": {},
   "outputs": [
    {
     "data": {
      "text/html": [
       "<div>\n",
       "<style scoped>\n",
       "    .dataframe tbody tr th:only-of-type {\n",
       "        vertical-align: middle;\n",
       "    }\n",
       "\n",
       "    .dataframe tbody tr th {\n",
       "        vertical-align: top;\n",
       "    }\n",
       "\n",
       "    .dataframe thead th {\n",
       "        text-align: right;\n",
       "    }\n",
       "</style>\n",
       "<table border=\"1\" class=\"dataframe\">\n",
       "  <thead>\n",
       "    <tr style=\"text-align: right;\">\n",
       "      <th></th>\n",
       "      <th>Predictions</th>\n",
       "      <th>Actual</th>\n",
       "    </tr>\n",
       "  </thead>\n",
       "  <tbody>\n",
       "    <tr>\n",
       "      <th>0</th>\n",
       "      <td>0</td>\n",
       "      <td>0</td>\n",
       "    </tr>\n",
       "    <tr>\n",
       "      <th>1</th>\n",
       "      <td>0</td>\n",
       "      <td>0</td>\n",
       "    </tr>\n",
       "    <tr>\n",
       "      <th>2</th>\n",
       "      <td>0</td>\n",
       "      <td>0</td>\n",
       "    </tr>\n",
       "    <tr>\n",
       "      <th>3</th>\n",
       "      <td>0</td>\n",
       "      <td>0</td>\n",
       "    </tr>\n",
       "    <tr>\n",
       "      <th>4</th>\n",
       "      <td>0</td>\n",
       "      <td>0</td>\n",
       "    </tr>\n",
       "    <tr>\n",
       "      <th>...</th>\n",
       "      <td>...</td>\n",
       "      <td>...</td>\n",
       "    </tr>\n",
       "    <tr>\n",
       "      <th>95</th>\n",
       "      <td>0</td>\n",
       "      <td>0</td>\n",
       "    </tr>\n",
       "    <tr>\n",
       "      <th>96</th>\n",
       "      <td>0</td>\n",
       "      <td>0</td>\n",
       "    </tr>\n",
       "    <tr>\n",
       "      <th>97</th>\n",
       "      <td>0</td>\n",
       "      <td>0</td>\n",
       "    </tr>\n",
       "    <tr>\n",
       "      <th>98</th>\n",
       "      <td>0</td>\n",
       "      <td>0</td>\n",
       "    </tr>\n",
       "    <tr>\n",
       "      <th>99</th>\n",
       "      <td>1</td>\n",
       "      <td>1</td>\n",
       "    </tr>\n",
       "  </tbody>\n",
       "</table>\n",
       "<p>100 rows × 2 columns</p>\n",
       "</div>"
      ],
      "text/plain": [
       "    Predictions  Actual\n",
       "0             0       0\n",
       "1             0       0\n",
       "2             0       0\n",
       "3             0       0\n",
       "4             0       0\n",
       "..          ...     ...\n",
       "95            0       0\n",
       "96            0       0\n",
       "97            0       0\n",
       "98            0       0\n",
       "99            1       1\n",
       "\n",
       "[100 rows x 2 columns]"
      ]
     },
     "execution_count": 35,
     "metadata": {},
     "output_type": "execute_result"
    }
   ],
   "source": [
    "# Make a prediction using the testing data\n",
    "predictions = classifier.predict(X_test)\n",
    "results = pd.DataFrame({\"Predictions\": predictions, \"Actual\": y_test}).reset_index(drop=True)\n",
    "\n",
    "results.head(100)"
   ]
  },
  {
   "cell_type": "markdown",
   "metadata": {},
   "source": [
    "### Step 3: Evaluate the model’s performance by doing the following:\n",
    "\n",
    "* Calculate the accuracy score of the model.\n",
    "\n",
    "* Generate a confusion matrix.\n",
    "\n",
    "* Print the classification report."
   ]
  },
  {
   "cell_type": "code",
   "execution_count": 25,
   "metadata": {},
   "outputs": [
    {
     "data": {
      "text/html": [
       "<div>\n",
       "<style scoped>\n",
       "    .dataframe tbody tr th:only-of-type {\n",
       "        vertical-align: middle;\n",
       "    }\n",
       "\n",
       "    .dataframe tbody tr th {\n",
       "        vertical-align: top;\n",
       "    }\n",
       "\n",
       "    .dataframe thead th {\n",
       "        text-align: right;\n",
       "    }\n",
       "</style>\n",
       "<table border=\"1\" class=\"dataframe\">\n",
       "  <thead>\n",
       "    <tr style=\"text-align: right;\">\n",
       "      <th></th>\n",
       "      <th>Predicted Healthy Loans (low-risk)</th>\n",
       "      <th>Predicted Non-Healthy Loans (high-risk)</th>\n",
       "    </tr>\n",
       "  </thead>\n",
       "  <tbody>\n",
       "    <tr>\n",
       "      <th>Actual Healthy Loans (low-risk)</th>\n",
       "      <td>18663</td>\n",
       "      <td>102</td>\n",
       "    </tr>\n",
       "    <tr>\n",
       "      <th>Actual Non-Healthy Loans (high-risk)</th>\n",
       "      <td>56</td>\n",
       "      <td>563</td>\n",
       "    </tr>\n",
       "  </tbody>\n",
       "</table>\n",
       "</div>"
      ],
      "text/plain": [
       "                                      Predicted Healthy Loans (low-risk)  \\\n",
       "Actual Healthy Loans (low-risk)                                    18663   \n",
       "Actual Non-Healthy Loans (high-risk)                                  56   \n",
       "\n",
       "                                      Predicted Non-Healthy Loans (high-risk)  \n",
       "Actual Healthy Loans (low-risk)                                           102  \n",
       "Actual Non-Healthy Loans (high-risk)                                      563  "
      ]
     },
     "execution_count": 25,
     "metadata": {},
     "output_type": "execute_result"
    }
   ],
   "source": [
    "# Print the balanced_accuracy score of the model\n",
    "from sklearn.metrics import balanced_accuracy_score\n",
    "\n",
    "balanced_accuracy_score(y_test, predictions)\n",
    "\n",
    "cm_oversampled = confusion_matrix(y_test, predictions)\n",
    "cm_oversampled_df = pd.DataFrame(cm_oversampled, \n",
    "                                index = ['Actual Healthy Loans (low-risk)', \n",
    "                                'Actual Non-Healthy Loans (high-risk)'], \n",
    "                                columns = ['Predicted Healthy Loans (low-risk)', 'Predicted Non-Healthy Loans (high-risk)']\n",
    "                              )\n",
    "cm_oversampled_df\n"
   ]
  },
  {
   "cell_type": "code",
   "execution_count": 26,
   "metadata": {},
   "outputs": [
    {
     "name": "stdout",
     "output_type": "stream",
     "text": [
      "              precision    recall  f1-score   support\n",
      "\n",
      "           0       1.00      0.99      1.00     18765\n",
      "           1       0.85      0.91      0.88       619\n",
      "\n",
      "    accuracy                           0.99     19384\n",
      "   macro avg       0.92      0.95      0.94     19384\n",
      "weighted avg       0.99      0.99      0.99     19384\n",
      "\n"
     ]
    }
   ],
   "source": [
    "# Print the classification report for the model\n",
    "print(classification_report(y_test, predictions))"
   ]
  },
  {
   "cell_type": "markdown",
   "metadata": {},
   "source": [
    "### Step 4: Answer the following question."
   ]
  },
  {
   "cell_type": "markdown",
   "metadata": {},
   "source": [
    "**Question:** How well does the logistic regression model predict both the `0` (healthy loan) and `1` (high-risk loan) labels?\n",
    "\n",
    "**Answer:**  The cm_oversampled_df report has a 99% accuracy when identifying a low risk loan and 100% accuracy in not identifying a high risk loan as a low risk loan.\n",
    "    Identifying the High risk loans has a lower accuracy of 91% with an 85% precision score.\n",
    "    This will easily identify low risk loans but the high risk loans seem to be a more difficult to identify and may take more investigation to accurately identify."
   ]
  },
  {
   "cell_type": "markdown",
   "metadata": {},
   "source": [
    "---"
   ]
  },
  {
   "cell_type": "markdown",
   "metadata": {},
   "source": [
    "## Predict a Logistic Regression Model with Resampled Training Data"
   ]
  },
  {
   "cell_type": "markdown",
   "metadata": {},
   "source": [
    "### Step 1: Use the `RandomOverSampler` module from the imbalanced-learn library to resample the data. Be sure to confirm that the labels have an equal number of data points. "
   ]
  },
  {
   "cell_type": "code",
   "execution_count": 27,
   "metadata": {},
   "outputs": [
    {
     "name": "stdout",
     "output_type": "stream",
     "text": [
      "Original label distribution: Counter({0: 51, 1: 49})\n",
      "Resampled label distribution: Counter({1: 51, 0: 51})\n"
     ]
    }
   ],
   "source": [
    "# Import the RandomOverSampler module form imbalanced-learn\n",
    "from imblearn.over_sampling import RandomOverSampler\n",
    "from sklearn.datasets import make_classification\n",
    "from collections import Counter\n",
    "\n",
    "# Instantiate the random oversampler model\n",
    "# # Assign a random_state parameter of 1 to the model\n",
    "X, y = make_classification(n_samples=100, n_features=10, n_informative=2, n_classes=2, random_state=1)\n",
    "print(\"Original label distribution:\", Counter(y))\n",
    "\n",
    "# Fit the original training data to the random_oversampler model\n",
    "ros = RandomOverSampler(random_state=42)\n",
    "X_resampled, y_resampled = ros.fit_resample(X, y)\n",
    "print(\"Resampled label distribution:\", Counter(y_resampled))\n"
   ]
  },
  {
   "cell_type": "code",
   "execution_count": 29,
   "metadata": {},
   "outputs": [
    {
     "name": "stdout",
     "output_type": "stream",
     "text": [
      "Distinct values: [-2.79308500e+00 -2.79099641e+00 -2.78253447e+00 -2.69836174e+00\n",
      " -2.51630386e+00 -2.50644065e+00 -2.41350300e+00 -2.30490794e+00\n",
      " -2.23708651e+00 -2.22711263e+00 -2.14444405e+00 -2.14246673e+00\n",
      " -2.11416392e+00 -2.09424782e+00 -2.08639057e+00 -2.07680202e+00\n",
      " -2.03720123e+00 -1.95816909e+00 -1.95210529e+00 -1.94504696e+00\n",
      " -1.94332341e+00 -1.94258918e+00 -1.94068096e+00 -1.89881206e+00\n",
      " -1.89526695e+00 -1.88141087e+00 -1.87316098e+00 -1.82391985e+00\n",
      " -1.78962393e+00 -1.78791289e+00 -1.77756638e+00 -1.75592564e+00\n",
      " -1.75151751e+00 -1.73440213e+00 -1.71939447e+00 -1.69933360e+00\n",
      " -1.68405999e+00 -1.67419581e+00 -1.66153635e+00 -1.63971434e+00\n",
      " -1.63744959e+00 -1.57921328e+00 -1.57915629e+00 -1.56917330e+00\n",
      " -1.56629795e+00 -1.56573815e+00 -1.56132059e+00 -1.55694156e+00\n",
      " -1.54398637e+00 -1.53879325e+00 -1.52568032e+00 -1.52212235e+00\n",
      " -1.51649333e+00 -1.51594823e+00 -1.51555340e+00 -1.51045638e+00\n",
      " -1.50957268e+00 -1.49363676e+00 -1.48515645e+00 -1.47955308e+00\n",
      " -1.47910384e+00 -1.47656266e+00 -1.47115693e+00 -1.46405357e+00\n",
      " -1.46140360e+00 -1.44303438e+00 -1.44244930e+00 -1.44087602e+00\n",
      " -1.42655542e+00 -1.42554982e+00 -1.42368943e+00 -1.41129414e+00\n",
      " -1.40921978e+00 -1.40232915e+00 -1.39881282e+00 -1.39662042e+00\n",
      " -1.39569948e+00 -1.39169388e+00 -1.38272279e+00 -1.38129280e+00\n",
      " -1.37677869e+00 -1.37161839e+00 -1.36910947e+00 -1.36621324e+00\n",
      " -1.36088247e+00 -1.35233732e+00 -1.35016240e+00 -1.34869645e+00\n",
      " -1.34776494e+00 -1.33520272e+00 -1.33232952e+00 -1.32549971e+00\n",
      " -1.32091413e+00 -1.31918161e+00 -1.31911292e+00 -1.31610584e+00\n",
      " -1.31426560e+00 -1.31252957e+00 -1.30759499e+00 -1.30653407e+00\n",
      " -1.30572692e+00 -1.30289368e+00 -1.29401108e+00 -1.29053677e+00\n",
      " -1.28774027e+00 -1.28558980e+00 -1.28393266e+00 -1.27699670e+00\n",
      " -1.27406042e+00 -1.27221465e+00 -1.27064565e+00 -1.27046078e+00\n",
      " -1.25230004e+00 -1.25127924e+00 -1.24490005e+00 -1.24174887e+00\n",
      " -1.24017985e+00 -1.23950074e+00 -1.23947086e+00 -1.23312074e+00\n",
      " -1.23212294e+00 -1.22975685e+00 -1.22959057e+00 -1.22957425e+00\n",
      " -1.22684406e+00 -1.21974440e+00 -1.21333813e+00 -1.21037691e+00\n",
      " -1.20814692e+00 -1.20440239e+00 -1.19586151e+00 -1.19393862e+00\n",
      " -1.19123408e+00 -1.18951588e+00 -1.18231813e+00 -1.18110317e+00\n",
      " -1.18054667e+00 -1.17598267e+00 -1.17452934e+00 -1.16400797e+00\n",
      " -1.16017010e+00 -1.15530746e+00 -1.15498263e+00 -1.14870423e+00\n",
      " -1.14638259e+00 -1.13603165e+00 -1.12478707e+00 -1.11711069e+00\n",
      " -1.11647002e+00 -1.11509679e+00 -1.11501987e+00 -1.11487105e+00\n",
      " -1.11343610e+00 -1.11278585e+00 -1.11128067e+00 -1.10771250e+00\n",
      " -1.10686860e+00 -1.10657307e+00 -1.10325445e+00 -1.10029918e+00\n",
      " -1.09715436e+00 -1.09530458e+00 -1.09094359e+00 -1.09033833e+00\n",
      " -1.08962347e+00 -1.08864222e+00 -1.08220911e+00 -1.08077536e+00\n",
      " -1.08071069e+00 -1.07296428e+00 -1.07223343e+00 -1.07020755e+00\n",
      " -1.06898330e+00 -1.06633261e+00 -1.06220957e+00 -1.06179676e+00\n",
      " -1.05354607e+00 -1.04906775e+00 -1.04458938e+00 -1.03918232e+00\n",
      " -1.03611179e+00 -1.02789357e+00 -1.02489651e+00 -1.02188594e+00\n",
      " -1.01480369e+00 -1.01412185e+00 -1.01103813e+00 -1.01015351e+00\n",
      " -1.00227024e+00 -1.00137091e+00 -1.00016919e+00 -9.97019796e-01\n",
      " -9.96010889e-01 -9.95433704e-01 -9.91348027e-01 -9.79890252e-01\n",
      " -9.66543109e-01 -9.57105258e-01 -9.55432184e-01 -9.55425262e-01\n",
      " -9.52062101e-01 -9.51263274e-01 -9.50909251e-01 -9.34259601e-01\n",
      " -9.34181843e-01 -9.33914656e-01 -9.27511557e-01 -9.26871939e-01\n",
      " -9.21485846e-01 -9.18440038e-01 -9.16257007e-01 -9.15791849e-01\n",
      " -9.15424368e-01 -9.13100629e-01 -9.08018711e-01 -9.01634490e-01\n",
      " -9.01316537e-01 -8.98683193e-01 -8.92245917e-01 -8.83713762e-01\n",
      " -8.80577600e-01 -8.77281519e-01 -8.70008223e-01 -8.67787223e-01\n",
      " -8.67768678e-01 -8.64477118e-01 -8.61316361e-01 -8.57496825e-01\n",
      " -8.56778339e-01 -8.54366645e-01 -8.52612954e-01 -8.52598947e-01\n",
      " -8.51455657e-01 -8.47924448e-01 -8.45959060e-01 -8.45211705e-01\n",
      " -8.44756388e-01 -8.38533058e-01 -8.30171895e-01 -8.30168864e-01\n",
      " -8.28627979e-01 -8.26097432e-01 -8.22467189e-01 -8.08847196e-01\n",
      " -8.07991300e-01 -8.06184817e-01 -8.06178212e-01 -7.99547491e-01\n",
      " -7.97269785e-01 -7.90959348e-01 -7.90799954e-01 -7.89717763e-01\n",
      " -7.87021126e-01 -7.85653903e-01 -7.85533997e-01 -7.81911683e-01\n",
      " -7.77858827e-01 -7.77279576e-01 -7.75070287e-01 -7.70151304e-01\n",
      " -7.68740194e-01 -7.67309826e-01 -7.66851750e-01 -7.60706287e-01\n",
      " -7.59553271e-01 -7.58067329e-01 -7.55662765e-01 -7.49969617e-01\n",
      " -7.40904745e-01 -7.40072673e-01 -7.33271604e-01 -7.31530982e-01\n",
      " -7.28537489e-01 -7.25597119e-01 -7.25214926e-01 -7.22391905e-01\n",
      " -7.22150149e-01 -7.15728932e-01 -7.13776385e-01 -7.07875320e-01\n",
      " -7.07268773e-01 -7.05840507e-01 -7.04350332e-01 -7.02920403e-01\n",
      " -7.01586321e-01 -7.01344426e-01 -7.00398505e-01 -6.96371397e-01\n",
      " -6.94920901e-01 -6.94693595e-01 -6.93832719e-01 -6.87487393e-01\n",
      " -6.80678141e-01 -6.79383783e-01 -6.75968771e-01 -6.73259191e-01\n",
      " -6.72448039e-01 -6.65754518e-01 -6.64867767e-01 -6.61765716e-01\n",
      " -6.61344243e-01 -6.37881346e-01 -6.32628061e-01 -6.29441604e-01\n",
      " -6.26791126e-01 -6.25342001e-01 -6.18036848e-01 -6.13337468e-01\n",
      " -6.12442128e-01 -6.12406973e-01 -6.06998398e-01 -6.04602969e-01\n",
      " -6.01156801e-01 -6.00225330e-01 -5.99804531e-01 -5.96086335e-01\n",
      " -5.95667881e-01 -5.93843067e-01 -5.93343754e-01 -5.92461285e-01\n",
      " -5.92107602e-01 -5.88963928e-01 -5.84312204e-01 -5.81710421e-01\n",
      " -5.77978794e-01 -5.76859183e-01 -5.75625745e-01 -5.69148654e-01\n",
      " -5.63788735e-01 -5.63236604e-01 -5.60085539e-01 -5.57494722e-01\n",
      " -5.55807124e-01 -5.49226919e-01 -5.45774168e-01 -5.44064668e-01\n",
      " -5.42569602e-01 -5.42169373e-01 -5.40548062e-01 -5.39681562e-01\n",
      " -5.37223024e-01 -5.33020326e-01 -5.32234021e-01 -5.30160441e-01\n",
      " -5.25688429e-01 -5.23636355e-01 -5.18145552e-01 -5.16347909e-01\n",
      " -5.14407708e-01 -5.13571438e-01 -5.12259351e-01 -5.08972278e-01\n",
      " -5.08457134e-01 -5.03973949e-01 -5.02186002e-01 -4.98213564e-01\n",
      " -4.96345393e-01 -4.93441950e-01 -4.91125138e-01 -4.79184915e-01\n",
      " -4.79157099e-01 -4.78672356e-01 -4.78191016e-01 -4.77580855e-01\n",
      " -4.76180509e-01 -4.75372875e-01 -4.74958573e-01 -4.68673816e-01\n",
      " -4.66154857e-01 -4.59942831e-01 -4.59930104e-01 -4.56117555e-01\n",
      " -4.50013352e-01 -4.49164290e-01 -4.48738033e-01 -4.47895185e-01\n",
      " -4.46327854e-01 -4.43171931e-01 -4.42229280e-01 -4.38997664e-01\n",
      " -4.37508983e-01 -4.36416753e-01 -4.34956683e-01 -4.29142278e-01\n",
      " -4.24492791e-01 -4.22856961e-01 -4.18937898e-01 -4.14846901e-01\n",
      " -4.13029310e-01 -4.11639163e-01 -4.11155267e-01 -4.07252043e-01\n",
      " -4.03941907e-01 -3.91816240e-01 -3.84832249e-01 -3.79517516e-01\n",
      " -3.79220142e-01 -3.76857530e-01 -3.74804687e-01 -3.74438319e-01\n",
      " -3.69562425e-01 -3.66431132e-01 -3.64686886e-01 -3.62612088e-01\n",
      " -3.59224096e-01 -3.53409983e-01 -3.44987210e-01 -3.43900709e-01\n",
      " -3.33302673e-01 -3.31283170e-01 -3.29051549e-01 -3.27882802e-01\n",
      " -3.24204219e-01 -3.11463202e-01 -3.10984978e-01 -3.09121319e-01\n",
      " -3.01219255e-01 -3.00976154e-01 -2.97361883e-01 -2.91594596e-01\n",
      " -2.88997343e-01 -2.82863552e-01 -2.81736269e-01 -2.79097722e-01\n",
      " -2.75846063e-01 -2.68371304e-01 -2.66326884e-01 -2.59028379e-01\n",
      " -2.58982853e-01 -2.54179868e-01 -2.51674208e-01 -2.37941936e-01\n",
      " -2.37875265e-01 -2.36436952e-01 -2.30839743e-01 -2.28765829e-01\n",
      " -2.28754171e-01 -2.22414029e-01 -2.18733459e-01 -2.16847141e-01\n",
      " -2.03394449e-01 -1.98998184e-01 -1.98837863e-01 -1.95057341e-01\n",
      " -1.93321640e-01 -1.90221025e-01 -1.88552557e-01 -1.88319791e-01\n",
      " -1.86578994e-01 -1.84176326e-01 -1.83400197e-01 -1.82558632e-01\n",
      " -1.82420406e-01 -1.79612295e-01 -1.78167075e-01 -1.77632196e-01\n",
      " -1.75458969e-01 -1.74180344e-01 -1.73948835e-01 -1.71136655e-01\n",
      " -1.68198840e-01 -1.66485955e-01 -1.65523438e-01 -1.58048526e-01\n",
      " -1.56993672e-01 -1.54491194e-01 -1.48489803e-01 -1.46273275e-01\n",
      " -1.43430396e-01 -1.43195745e-01 -1.39711730e-01 -1.39351805e-01\n",
      " -1.35977326e-01 -1.34793129e-01 -1.31675626e-01 -1.29258049e-01\n",
      " -1.25935066e-01 -1.20464572e-01 -1.18771172e-01 -1.15985185e-01\n",
      " -1.09991490e-01 -1.08392067e-01 -1.06793987e-01 -1.06460122e-01\n",
      " -1.05344713e-01 -1.02887218e-01 -1.01932039e-01 -9.55756520e-02\n",
      " -9.24323185e-02 -8.45080274e-02 -6.96524577e-02 -6.93286967e-02\n",
      " -6.87704631e-02 -6.74100249e-02 -6.53929721e-02 -6.06524918e-02\n",
      " -5.96224696e-02 -5.93679025e-02 -5.92018686e-02 -5.68244809e-02\n",
      " -5.11884476e-02 -4.97025792e-02 -4.58666861e-02 -3.96687001e-02\n",
      " -3.91782562e-02 -3.53679249e-02 -3.18171727e-02 -2.75293863e-02\n",
      " -2.48813316e-02 -1.92316341e-02 -1.77183179e-02 -1.74549518e-02\n",
      " -1.47841532e-02 -1.89148284e-03 -3.75008758e-04  4.00084198e-03\n",
      "  8.54894544e-03  1.18847825e-02  1.33526763e-02  1.65275673e-02\n",
      "  1.71647264e-02  1.79558917e-02  2.18628366e-02  2.42722194e-02\n",
      "  2.59999942e-02  2.94176190e-02  3.37435941e-02  3.49435894e-02\n",
      "  3.53600971e-02  4.03714310e-02  4.25540194e-02  4.35701597e-02\n",
      "  4.90616924e-02  4.90803971e-02  5.34095368e-02  5.71209961e-02\n",
      "  6.07501958e-02  6.13752801e-02  7.22518992e-02  7.25914523e-02\n",
      "  7.63804802e-02  8.09271010e-02  8.17678188e-02  8.64644065e-02\n",
      "  8.96539944e-02  8.96864073e-02  8.97291174e-02  9.54250872e-02\n",
      "  9.57467711e-02  1.06222724e-01  1.07343294e-01  1.08030817e-01\n",
      "  1.09402696e-01  1.09616525e-01  1.12487742e-01  1.28376990e-01\n",
      "  1.29101580e-01  1.32247779e-01  1.34048197e-01  1.34373116e-01\n",
      "  1.40395436e-01  1.41640538e-01  1.42251373e-01  1.44759141e-01\n",
      "  1.50016279e-01  1.51104363e-01  1.56263850e-01  1.69869255e-01\n",
      "  1.77187720e-01  1.81038744e-01  1.83877931e-01  1.84713184e-01\n",
      "  1.89293198e-01  1.89861649e-01  1.96869779e-01  2.01830179e-01\n",
      "  2.09096677e-01  2.11124755e-01  2.15672602e-01  2.31197657e-01\n",
      "  2.32340745e-01  2.37332699e-01  2.42669441e-01  2.43057105e-01\n",
      "  2.45422849e-01  2.59451061e-01  2.62467445e-01  2.68851964e-01\n",
      "  2.73458411e-01  2.76499305e-01  2.76845695e-01  2.82675712e-01\n",
      "  2.82995534e-01  2.84574144e-01  2.84748111e-01  2.87333182e-01\n",
      "  2.88078167e-01  2.91472496e-01  3.05267040e-01  3.10272288e-01\n",
      "  3.12238689e-01  3.16658895e-01  3.18154200e-01  3.19656942e-01\n",
      "  3.21265914e-01  3.23403194e-01  3.23527354e-01  3.24274243e-01\n",
      "  3.29535191e-01  3.37220938e-01  3.38475971e-01  3.50167159e-01\n",
      "  3.51116897e-01  3.52494364e-01  3.61801641e-01  3.61847316e-01\n",
      "  3.66332015e-01  3.67231814e-01  3.69190470e-01  3.71670291e-01\n",
      "  3.72456852e-01  3.82715174e-01  3.83606926e-01  3.86539145e-01\n",
      "  3.91845865e-01  3.93109245e-01  3.97880425e-01  3.99938698e-01\n",
      "  4.10265745e-01  4.17302005e-01  4.22948520e-01  4.24571315e-01\n",
      "  4.24630381e-01  4.25920177e-01  4.27686660e-01  4.29526140e-01\n",
      "  4.35986196e-01  4.38166347e-01  4.48963856e-01  4.50155513e-01\n",
      "  4.50217742e-01  4.51122939e-01  4.51284016e-01  4.51615951e-01\n",
      "  4.51946037e-01  4.61164100e-01  4.62844425e-01  4.63393153e-01\n",
      "  4.63534322e-01  4.66643267e-01  4.68043237e-01  4.69690694e-01\n",
      "  4.77610182e-01  4.81345840e-01  4.82043347e-01  4.82297259e-01\n",
      "  4.90995768e-01  4.92336556e-01  4.95158611e-01  4.97269099e-01\n",
      "  5.01725109e-01  5.02740882e-01  5.05208089e-01  5.05381903e-01\n",
      "  5.05878495e-01  5.10276028e-01  5.10307597e-01  5.10937774e-01\n",
      "  5.13505480e-01  5.15073614e-01  5.15413802e-01  5.28879746e-01\n",
      "  5.31163793e-01  5.42645295e-01  5.48129585e-01  5.56073510e-01\n",
      "  5.57439453e-01  5.64382855e-01  5.65746062e-01  5.68870047e-01\n",
      "  5.76990609e-01  5.84646610e-01  5.85308978e-01  5.85662000e-01\n",
      "  5.85675877e-01  5.85910431e-01  5.90039464e-01  5.92472801e-01\n",
      "  6.02456713e-01  6.08514698e-01  6.08783659e-01  6.17985534e-01\n",
      "  6.18539131e-01  6.21082701e-01  6.21803504e-01  6.23362177e-01\n",
      "  6.23742454e-01  6.25775731e-01  6.27437083e-01  6.28833249e-01\n",
      "  6.30195671e-01  6.33783137e-01  6.36583409e-01  6.44353666e-01\n",
      "  6.48643644e-01  6.48689499e-01  6.51447998e-01  6.54580153e-01\n",
      "  6.61020288e-01  6.61681076e-01  6.74396105e-01  6.74570707e-01\n",
      "  6.74711526e-01  6.76608507e-01  6.76979790e-01  6.77807571e-01\n",
      "  6.80645373e-01  6.84001328e-01  6.90209191e-01  6.92574348e-01\n",
      "  6.93366226e-01  7.09932404e-01  7.13049050e-01  7.14348344e-01\n",
      "  7.14789597e-01  7.16873361e-01  7.18515197e-01  7.19189770e-01\n",
      "  7.19561455e-01  7.21711292e-01  7.22647986e-01  7.25474004e-01\n",
      "  7.25550518e-01  7.25916853e-01  7.27813500e-01  7.31402517e-01\n",
      "  7.33023232e-01  7.43356544e-01  7.51337235e-01  7.52216921e-01\n",
      "  7.55596757e-01  7.56192605e-01  7.58805660e-01  7.62080095e-01\n",
      "  7.65298321e-01  7.73484054e-01  7.77419205e-01  7.80027135e-01\n",
      "  7.80469930e-01  7.84770651e-01  7.85226920e-01  7.86942710e-01\n",
      "  7.90061048e-01  7.94243281e-01  7.94528240e-01  7.95026094e-01\n",
      "  7.98063795e-01  8.05393424e-01  8.07455917e-01  8.08844360e-01\n",
      "  8.14343129e-01  8.16043684e-01  8.16957655e-01  8.23008365e-01\n",
      "  8.23406141e-01  8.24270788e-01  8.24584625e-01  8.25029824e-01\n",
      "  8.36004719e-01  8.38634747e-01  8.40861558e-01  8.42672776e-01\n",
      "  8.52704062e-01  8.53281222e-01  8.53282186e-01  8.53704949e-01\n",
      "  8.55650365e-01  8.56514986e-01  8.58092251e-01  8.58878413e-01\n",
      "  8.59870972e-01  8.61623101e-01  8.66604000e-01  8.70969803e-01\n",
      "  8.75676696e-01  8.84908814e-01  8.85825799e-01  8.86529678e-01\n",
      "  8.93525577e-01  8.96211144e-01  9.03999174e-01  9.15332711e-01\n",
      "  9.20017933e-01  9.20615118e-01  9.21162053e-01  9.21450069e-01\n",
      "  9.28661459e-01  9.31688688e-01  9.33262348e-01  9.39168744e-01\n",
      "  9.40460668e-01  9.42948786e-01  9.44836268e-01  9.46698373e-01\n",
      "  9.47501167e-01  9.49132232e-01  9.54495667e-01  9.56121704e-01\n",
      "  9.62351182e-01  9.63827158e-01  9.65991296e-01  9.66220863e-01\n",
      "  9.66539250e-01  9.70791738e-01  9.72740190e-01  9.81732510e-01\n",
      "  9.82517203e-01  9.84951672e-01  9.86352180e-01  9.87185854e-01\n",
      "  9.88432956e-01  1.00088142e+00  1.00806543e+00  1.00978733e+00\n",
      "  1.01012718e+00  1.01120706e+00  1.01382247e+00  1.01737804e+00\n",
      "  1.01855247e+00  1.03298378e+00  1.03345080e+00  1.03368687e+00\n",
      "  1.03763331e+00  1.04008915e+00  1.04457966e+00  1.04499441e+00\n",
      "  1.04541272e+00  1.04921829e+00  1.04984745e+00  1.06080576e+00\n",
      "  1.06897162e+00  1.07125243e+00  1.07339003e+00  1.07510938e+00\n",
      "  1.08338814e+00  1.09011303e+00  1.09850848e+00  1.09891123e+00\n",
      "  1.09899633e+00  1.10100020e+00  1.10223673e+00  1.10417433e+00\n",
      "  1.10717545e+00  1.10755772e+00  1.10861676e+00  1.11257376e+00\n",
      "  1.11298159e+00  1.11570180e+00  1.11584111e+00  1.11813340e+00\n",
      "  1.11955768e+00  1.12018826e+00  1.12232832e+00  1.12341216e+00\n",
      "  1.12643073e+00  1.13788985e+00  1.14690038e+00  1.15528789e+00\n",
      "  1.15731717e+00  1.15974524e+00  1.16143998e+00  1.16188579e+00\n",
      "  1.16707517e+00  1.16871126e+00  1.18339924e+00  1.19268607e+00\n",
      "  1.19783084e+00  1.20205486e+00  1.20660790e+00  1.20790857e+00\n",
      "  1.20845633e+00  1.21740051e+00  1.21794090e+00  1.22175580e+00\n",
      "  1.22372221e+00  1.22515585e+00  1.22895559e+00  1.23055820e+00\n",
      "  1.23225307e+00  1.23289919e+00  1.23965215e+00  1.25959039e+00\n",
      "  1.26000830e+00  1.27753791e+00  1.27852808e+00  1.29354962e+00\n",
      "  1.30022717e+00  1.30253554e+00  1.30620607e+00  1.30970591e+00\n",
      "  1.33139049e+00  1.34104147e+00  1.34710546e+00  1.35010682e+00\n",
      "  1.35039026e+00  1.37268559e+00  1.37320248e+00  1.38216805e+00\n",
      "  1.38499134e+00  1.38631426e+00  1.38877940e+00  1.39127796e+00\n",
      "  1.39556596e+00  1.39984394e+00  1.40754000e+00  1.40925339e+00\n",
      "  1.42361443e+00  1.44184425e+00  1.44287693e+00  1.44898940e+00\n",
      "  1.45142926e+00  1.45391758e+00  1.45810824e+00  1.46089238e+00\n",
      "  1.47016034e+00  1.47073986e+00  1.47386621e+00  1.48837640e+00\n",
      "  1.49810818e+00  1.50284911e+00  1.50463098e+00  1.52568161e+00\n",
      "  1.52631599e+00  1.53653633e+00  1.53920701e+00  1.54335911e+00\n",
      "  1.55501599e+00  1.55880554e+00  1.57546791e+00  1.60495551e+00\n",
      "  1.61336137e+00  1.61694960e+00  1.62091229e+00  1.62284909e+00\n",
      "  1.62411168e+00  1.63147164e+00  1.65980859e+00  1.66086437e+00\n",
      "  1.66092093e+00  1.66893820e+00  1.68227070e+00  1.69380911e+00\n",
      "  1.69606253e+00  1.70018815e+00  1.70347973e+00  1.70459417e+00\n",
      "  1.71066184e+00  1.71528182e+00  1.71718559e+00  1.71834622e+00\n",
      "  1.72989876e+00  1.73881441e+00  1.74643509e+00  1.76024923e+00\n",
      "  1.76041518e+00  1.76047523e+00  1.76533510e+00  1.76795995e+00\n",
      "  1.78975468e+00  1.79215821e+00  1.80615553e+00  1.81053491e+00\n",
      "  1.83471763e+00  1.85143789e+00  1.85300949e+00  1.86647138e+00\n",
      "  1.88761562e+00  1.89564169e+00  1.91979229e+00  1.92296129e+00\n",
      "  1.93752881e+00  1.94579769e+00  1.94981005e+00  2.05117344e+00\n",
      "  2.05132133e+00  2.05462410e+00  2.05635552e+00  2.06578332e+00\n",
      "  2.11060505e+00  2.13782807e+00  2.14957042e+00  2.25708170e+00\n",
      "  2.39014596e+00  2.44936865e+00  2.50598029e+00  2.78386209e+00\n",
      "  3.03085711e+00  3.17462483e+00  3.32107876e+00  3.95860270e+00]\n",
      "Count: 1000\n"
     ]
    }
   ],
   "source": [
    "# Count the distinct values of the resampled labels data\n",
    "distinct_values = np.unique(X_resampled)\n",
    "count = len(distinct_values)\n",
    "\n",
    "print(\"Distinct values:\", distinct_values)\n",
    "print(\"Count:\", count)"
   ]
  },
  {
   "cell_type": "markdown",
   "metadata": {},
   "source": [
    "### Step 2: Use the `LogisticRegression` classifier and the resampled data to fit the model and make predictions."
   ]
  },
  {
   "cell_type": "code",
   "execution_count": 37,
   "metadata": {},
   "outputs": [
    {
     "data": {
      "text/html": [
       "<div>\n",
       "<style scoped>\n",
       "    .dataframe tbody tr th:only-of-type {\n",
       "        vertical-align: middle;\n",
       "    }\n",
       "\n",
       "    .dataframe tbody tr th {\n",
       "        vertical-align: top;\n",
       "    }\n",
       "\n",
       "    .dataframe thead th {\n",
       "        text-align: right;\n",
       "    }\n",
       "</style>\n",
       "<table border=\"1\" class=\"dataframe\">\n",
       "  <thead>\n",
       "    <tr style=\"text-align: right;\">\n",
       "      <th></th>\n",
       "      <th>Predictions</th>\n",
       "      <th>Actual</th>\n",
       "    </tr>\n",
       "  </thead>\n",
       "  <tbody>\n",
       "    <tr>\n",
       "      <th>0</th>\n",
       "      <td>1</td>\n",
       "      <td>1</td>\n",
       "    </tr>\n",
       "    <tr>\n",
       "      <th>1</th>\n",
       "      <td>0</td>\n",
       "      <td>0</td>\n",
       "    </tr>\n",
       "    <tr>\n",
       "      <th>2</th>\n",
       "      <td>1</td>\n",
       "      <td>1</td>\n",
       "    </tr>\n",
       "    <tr>\n",
       "      <th>3</th>\n",
       "      <td>0</td>\n",
       "      <td>0</td>\n",
       "    </tr>\n",
       "    <tr>\n",
       "      <th>4</th>\n",
       "      <td>0</td>\n",
       "      <td>0</td>\n",
       "    </tr>\n",
       "  </tbody>\n",
       "</table>\n",
       "</div>"
      ],
      "text/plain": [
       "   Predictions  Actual\n",
       "0            1       1\n",
       "1            0       0\n",
       "2            1       1\n",
       "3            0       0\n",
       "4            0       0"
      ]
     },
     "execution_count": 37,
     "metadata": {},
     "output_type": "execute_result"
    }
   ],
   "source": [
    "# Instantiate the Logistic Regression model\n",
    "# Assign a random_state parameter of 1 to the model\n",
    "classifier_resampled = LogisticRegression(solver='lbfgs',\n",
    "                                 max_iter=200,\n",
    "                                 random_state=1)\n",
    "classifier_resampled\n",
    "\n",
    "# Fit the model using the resampled training data\n",
    "classifier_resampled.fit(X_resampled, y_resampled)\n",
    "\n",
    "# Make a prediction using the testing data\n",
    "predictions = classifier_resampled.predict(X_resampled)\n",
    "results_resampled = pd.DataFrame({\"Predictions\": predictions, \"Actual\": y_resampled}).reset_index(drop=True)\n",
    "\n",
    "results_resampled.head()"
   ]
  },
  {
   "cell_type": "markdown",
   "metadata": {},
   "source": [
    "### Step 3: Evaluate the model’s performance by doing the following:\n",
    "\n",
    "* Calculate the accuracy score of the model.\n",
    "\n",
    "* Generate a confusion matrix.\n",
    "\n",
    "* Print the classification report."
   ]
  },
  {
   "cell_type": "code",
   "execution_count": 38,
   "metadata": {},
   "outputs": [
    {
     "data": {
      "text/plain": [
       "0.9705882352941176"
      ]
     },
     "execution_count": 38,
     "metadata": {},
     "output_type": "execute_result"
    }
   ],
   "source": [
    "# Print the balanced_accuracy score of the model \n",
    "balanced_accuracy_score(y_resampled, predictions)"
   ]
  },
  {
   "cell_type": "code",
   "execution_count": 40,
   "metadata": {},
   "outputs": [
    {
     "data": {
      "text/html": [
       "<div>\n",
       "<style scoped>\n",
       "    .dataframe tbody tr th:only-of-type {\n",
       "        vertical-align: middle;\n",
       "    }\n",
       "\n",
       "    .dataframe tbody tr th {\n",
       "        vertical-align: top;\n",
       "    }\n",
       "\n",
       "    .dataframe thead th {\n",
       "        text-align: right;\n",
       "    }\n",
       "</style>\n",
       "<table border=\"1\" class=\"dataframe\">\n",
       "  <thead>\n",
       "    <tr style=\"text-align: right;\">\n",
       "      <th></th>\n",
       "      <th>Predicted Healthy Loans (low-risk)</th>\n",
       "      <th>Predicted Non-Healthy Loans (high-risk)</th>\n",
       "    </tr>\n",
       "  </thead>\n",
       "  <tbody>\n",
       "    <tr>\n",
       "      <th>Actual Healthy Loans (low-risk)</th>\n",
       "      <td>50</td>\n",
       "      <td>1</td>\n",
       "    </tr>\n",
       "    <tr>\n",
       "      <th>Actual Non-Healthy Loans (high-risk)</th>\n",
       "      <td>2</td>\n",
       "      <td>49</td>\n",
       "    </tr>\n",
       "  </tbody>\n",
       "</table>\n",
       "</div>"
      ],
      "text/plain": [
       "                                      Predicted Healthy Loans (low-risk)  \\\n",
       "Actual Healthy Loans (low-risk)                                       50   \n",
       "Actual Non-Healthy Loans (high-risk)                                   2   \n",
       "\n",
       "                                      Predicted Non-Healthy Loans (high-risk)  \n",
       "Actual Healthy Loans (low-risk)                                             1  \n",
       "Actual Non-Healthy Loans (high-risk)                                       49  "
      ]
     },
     "execution_count": 40,
     "metadata": {},
     "output_type": "execute_result"
    }
   ],
   "source": [
    "# Generate a confusion matrix for the model\n",
    "cm_Lr_oversampled = confusion_matrix(y_resampled, predictions)\n",
    "cm_Lr_oversampled_df = pd.DataFrame(cm_Lr_oversampled, \n",
    "                                index = ['Actual Healthy Loans (low-risk)', \n",
    "                                'Actual Non-Healthy Loans (high-risk)'], \n",
    "                                columns = ['Predicted Healthy Loans (low-risk)', 'Predicted Non-Healthy Loans (high-risk)']\n",
    "                              )\n",
    "cm_Lr_oversampled_df\n"
   ]
  },
  {
   "cell_type": "code",
   "execution_count": 41,
   "metadata": {},
   "outputs": [
    {
     "name": "stdout",
     "output_type": "stream",
     "text": [
      "              precision    recall  f1-score   support\n",
      "\n",
      "           0       0.96      0.98      0.97        51\n",
      "           1       0.98      0.96      0.97        51\n",
      "\n",
      "    accuracy                           0.97       102\n",
      "   macro avg       0.97      0.97      0.97       102\n",
      "weighted avg       0.97      0.97      0.97       102\n",
      "\n"
     ]
    }
   ],
   "source": [
    "# Print the classification report for the model\n",
    "print(classification_report(y_resampled, predictions))"
   ]
  },
  {
   "cell_type": "markdown",
   "metadata": {},
   "source": [
    "### Step 4: Answer the following question"
   ]
  },
  {
   "cell_type": "markdown",
   "metadata": {},
   "source": [
    "**Question:** How well does the logistic regression model, fit with oversampled data, predict both the `0` (healthy loan) and `1` (high-risk loan) labels?\n",
    "\n",
    "**Answer:** There is a much better balance of the data now.  Both high and low risk loans are identified with 98-96% accuracy and the precision of the data is 96-98%.  \n",
    "    This appears to be a very good evaluation of high and low risk loans."
   ]
  },
  {
   "cell_type": "code",
   "execution_count": null,
   "metadata": {},
   "outputs": [],
   "source": []
  }
 ],
 "metadata": {
  "kernelspec": {
   "display_name": "Python 3 (ipykernel)",
   "language": "python",
   "name": "python3"
  },
  "language_info": {
   "codemirror_mode": {
    "name": "ipython",
    "version": 3
   },
   "file_extension": ".py",
   "mimetype": "text/x-python",
   "name": "python",
   "nbconvert_exporter": "python",
   "pygments_lexer": "ipython3",
   "version": "3.9.16"
  },
  "vscode": {
   "interpreter": {
    "hash": "31f2aee4e71d21fbe5cf8b01ff0e069b9275f58929596ceb00d14d90e3e16cd6"
   }
  }
 },
 "nbformat": 4,
 "nbformat_minor": 4
}
